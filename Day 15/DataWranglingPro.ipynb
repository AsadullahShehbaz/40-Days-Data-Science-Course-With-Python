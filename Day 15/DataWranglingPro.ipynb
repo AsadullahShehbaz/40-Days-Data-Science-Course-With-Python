{
 "cells": [
  {
   "cell_type": "markdown",
   "id": "9da1496b",
   "metadata": {},
   "source": [
    "# Data Wrangling "
   ]
  },
  {
   "cell_type": "markdown",
   "id": "fdbef3fc",
   "metadata": {},
   "source": [
    "### Data wrangling is the process of cleaning, transforming, and organizing data so that it can be used for analysis and visualization. \n",
    "\n",
    "\n",
    "### It is an important step in the data analysis process because raw data is often incomplete, inconsistent, and in an unstructured format, which can make it difficult to work with. \n",
    "\n",
    "\n",
    "### • Data wrangling helps to make the data more consistent, accurate, and useful for analysis and decision making."
   ]
  },
  {
   "cell_type": "markdown",
   "id": "7455f7c9",
   "metadata": {},
   "source": [
    "# Steps of Data Wrangling "
   ]
  },
  {
   "cell_type": "code",
   "execution_count": null,
   "id": "f2c97b00",
   "metadata": {},
   "outputs": [],
   "source": [
    "# import libraries\n",
    "import numpy as np\n",
    "import pandas as pd \n",
    "import seaborn as sns\n",
    "import matplotlib.pyplot as plt\n",
    "from scipy import stats"
   ]
  },
  {
   "cell_type": "markdown",
   "id": "0149a2c7",
   "metadata": {},
   "source": [
    "# 1.Gather Data "
   ]
  },
  {
   "cell_type": "code",
   "execution_count": null,
   "id": "0a81c052",
   "metadata": {},
   "outputs": [],
   "source": [
    "df = sns.load_dataset(\"titanic\")\n",
    "df.head()"
   ]
  },
  {
   "cell_type": "markdown",
   "id": "7680e3b4",
   "metadata": {},
   "source": [
    "# 2. Access the Data (EDA)"
   ]
  },
  {
   "cell_type": "code",
   "execution_count": null,
   "id": "73ba372c",
   "metadata": {},
   "outputs": [],
   "source": [
    "df.head() # view first 5 rows\n",
    "df.describe() # summary statistics\n",
    "df.info() # data types and non-null counts\n",
    "df.isnull().sum() / len(df) * 100 # percentage of missing values\n",
    "df.shape # dimensions (rows and columns of table ) of the dataset"
   ]
  },
  {
   "cell_type": "markdown",
   "id": "f871531f",
   "metadata": {},
   "source": [
    "# 3. Cleaning the Data "
   ]
  },
  {
   "cell_type": "markdown",
   "id": "6389f94c",
   "metadata": {},
   "source": [
    "## 1.Deal with missing values "
   ]
  },
  {
   "cell_type": "code",
   "execution_count": null,
   "id": "1a299b27",
   "metadata": {},
   "outputs": [],
   "source": [
    "df['age'] = df['age'].fillna(value=df['age'].mean()) # fill missing values in 'age' with mean"
   ]
  },
  {
   "cell_type": "code",
   "execution_count": null,
   "id": "e6566ea3",
   "metadata": {},
   "outputs": [],
   "source": [
    "df.embark_town = df.embark_town.fillna(value=df.embark_town.mode()[0])"
   ]
  },
  {
   "cell_type": "code",
   "execution_count": null,
   "id": "cdc154a4",
   "metadata": {},
   "outputs": [],
   "source": [
    "df.embarked = df.embarked.fillna(value=df.embarked.mode()[0]) # fill missing values in 'embarked' with mode"
   ]
  },
  {
   "cell_type": "markdown",
   "id": "4e406290",
   "metadata": {},
   "source": [
    "## Remove Null Column "
   ]
  },
  {
   "cell_type": "code",
   "execution_count": null,
   "id": "d19c5b14",
   "metadata": {},
   "outputs": [],
   "source": [
    "df.drop(columns='deck',inplace=True) # drop deck column from dataset "
   ]
  },
  {
   "cell_type": "markdown",
   "id": "11fc2916",
   "metadata": {},
   "source": [
    "## 2.Correcting Errors in Data \n",
    "# 1. Removal of OUTLIERS"
   ]
  },
  {
   "cell_type": "markdown",
   "id": "8b2696f2",
   "metadata": {},
   "source": [
    "## 1. Visualization method "
   ]
  },
  {
   "cell_type": "code",
   "execution_count": null,
   "id": "4452ca24",
   "metadata": {},
   "outputs": [],
   "source": [
    "sns.boxplot(data=df,x='sex',y='age',hue='sex')"
   ]
  },
  {
   "cell_type": "markdown",
   "id": "54eda899",
   "metadata": {},
   "source": [
    "## 2. IQR Method "
   ]
  },
  {
   "cell_type": "code",
   "execution_count": null,
   "id": "6a6505ee",
   "metadata": {},
   "outputs": [],
   "source": [
    "Q1 = df['age'].quantile(0.25) # 25th percentile\n",
    "Q3 = df['age'].quantile(0.75) # 75th percentile\n",
    "IQR = Q3 - Q1 # interquartile range\n",
    "print(IQR)\n",
    "lower_bound = Q1 - 1.5 * IQR # lower bound\n",
    "upper_bound = Q3 + 1.5 * IQR # upper bound\n",
    "df = df[(df['age']>lower_bound)&(df['age']<upper_bound)] # remove outliers"
   ]
  },
  {
   "cell_type": "code",
   "execution_count": null,
   "id": "2f0e414a",
   "metadata": {},
   "outputs": [],
   "source": [
    "Q1 = df['fare'].quantile(0.25) # 25th percentile\n",
    "Q3 = df['fare'].quantile(0.75) # 75th percentile\n",
    "IQR = Q3 - Q1 # interquartile range\n",
    "print(IQR)\n",
    "lower_bound = Q1 - 1.5 * IQR # lower bound\n",
    "upper_bound = Q3 + 1.5 * IQR # upper bound\n",
    "df = df[(df['fare']>lower_bound)&(df['fare']<upper_bound)] # remove outliers"
   ]
  },
  {
   "cell_type": "code",
   "execution_count": null,
   "id": "f26e6637",
   "metadata": {},
   "outputs": [],
   "source": [
    "df.shape"
   ]
  },
  {
   "cell_type": "code",
   "execution_count": null,
   "id": "192b49a5",
   "metadata": {},
   "outputs": [],
   "source": [
    "sns.histplot(data=df,x='age',kde=True) # histogram of age with kernel density estimate"
   ]
  },
  {
   "cell_type": "markdown",
   "id": "90ca3e6f",
   "metadata": {},
   "source": [
    "## 3. Zscore Method "
   ]
  },
  {
   "cell_type": "code",
   "execution_count": null,
   "id": "d14fe9f8",
   "metadata": {},
   "outputs": [],
   "source": [
    "zscore = np.abs(stats.zscore(df['age'])) # calculate z-scores\n",
    "threshold = 3 # set threshold for z-score\n",
    "df = df[zscore < threshold] # remove outliers based on z-score\n",
    "df.shape # check dimensions after removing outliers"
   ]
  },
  {
   "cell_type": "markdown",
   "id": "14908abe",
   "metadata": {},
   "source": [
    "# 3. Find and Drop Duplicates"
   ]
  },
  {
   "cell_type": "code",
   "execution_count": null,
   "id": "f272680f",
   "metadata": {},
   "outputs": [],
   "source": [
    "df.duplicated().sum() # check for duplicates"
   ]
  },
  {
   "cell_type": "code",
   "execution_count": null,
   "id": "82a9a464",
   "metadata": {},
   "outputs": [],
   "source": [
    "df1_dup_count = df.duplicated().value_counts() # check frequency of duplicates\n",
    "plt.bar(df1_dup_count.index, df1_dup_count.values) # bar plot of duplicates\n",
    "plt.xlabel('Duplicates')\n",
    "plt.ylabel('Count')"
   ]
  },
  {
   "cell_type": "code",
   "execution_count": null,
   "id": "5e9fa3a7",
   "metadata": {},
   "outputs": [],
   "source": [
    "df.drop_duplicates(inplace=True) # remove duplicate rows\n",
    "df.shape # check dimensions after removing duplicates"
   ]
  },
  {
   "cell_type": "markdown",
   "id": "66122635",
   "metadata": {},
   "source": [
    "# 4. Transformation (Data Normalization)"
   ]
  },
  {
   "cell_type": "markdown",
   "id": "e7b120a3",
   "metadata": {},
   "source": [
    "### To bring data at one scale "
   ]
  },
  {
   "cell_type": "markdown",
   "id": "630468ef",
   "metadata": {},
   "source": [
    "## 1.MinMaxScaler Technique"
   ]
  },
  {
   "cell_type": "code",
   "execution_count": 240,
   "id": "0f76603c",
   "metadata": {},
   "outputs": [
    {
     "data": {
      "text/html": [
       "<div>\n",
       "<style scoped>\n",
       "    .dataframe tbody tr th:only-of-type {\n",
       "        vertical-align: middle;\n",
       "    }\n",
       "\n",
       "    .dataframe tbody tr th {\n",
       "        vertical-align: top;\n",
       "    }\n",
       "\n",
       "    .dataframe thead th {\n",
       "        text-align: right;\n",
       "    }\n",
       "</style>\n",
       "<table border=\"1\" class=\"dataframe\">\n",
       "  <thead>\n",
       "    <tr style=\"text-align: right;\">\n",
       "      <th></th>\n",
       "      <th>survived</th>\n",
       "      <th>pclass</th>\n",
       "      <th>sex</th>\n",
       "      <th>age</th>\n",
       "      <th>sibsp</th>\n",
       "      <th>parch</th>\n",
       "      <th>fare</th>\n",
       "      <th>embarked</th>\n",
       "      <th>class</th>\n",
       "      <th>who</th>\n",
       "      <th>adult_male</th>\n",
       "      <th>embark_town</th>\n",
       "      <th>alive</th>\n",
       "      <th>alone</th>\n",
       "    </tr>\n",
       "  </thead>\n",
       "  <tbody>\n",
       "    <tr>\n",
       "      <th>0</th>\n",
       "      <td>0</td>\n",
       "      <td>3</td>\n",
       "      <td>male</td>\n",
       "      <td>0.372549</td>\n",
       "      <td>1</td>\n",
       "      <td>0</td>\n",
       "      <td>0.118118</td>\n",
       "      <td>S</td>\n",
       "      <td>Third</td>\n",
       "      <td>man</td>\n",
       "      <td>True</td>\n",
       "      <td>Southampton</td>\n",
       "      <td>no</td>\n",
       "      <td>False</td>\n",
       "    </tr>\n",
       "    <tr>\n",
       "      <th>2</th>\n",
       "      <td>1</td>\n",
       "      <td>3</td>\n",
       "      <td>female</td>\n",
       "      <td>0.450980</td>\n",
       "      <td>0</td>\n",
       "      <td>0</td>\n",
       "      <td>0.129115</td>\n",
       "      <td>S</td>\n",
       "      <td>Third</td>\n",
       "      <td>woman</td>\n",
       "      <td>False</td>\n",
       "      <td>Southampton</td>\n",
       "      <td>yes</td>\n",
       "      <td>True</td>\n",
       "    </tr>\n",
       "    <tr>\n",
       "      <th>3</th>\n",
       "      <td>1</td>\n",
       "      <td>1</td>\n",
       "      <td>female</td>\n",
       "      <td>0.627451</td>\n",
       "      <td>1</td>\n",
       "      <td>0</td>\n",
       "      <td>0.865114</td>\n",
       "      <td>S</td>\n",
       "      <td>First</td>\n",
       "      <td>woman</td>\n",
       "      <td>False</td>\n",
       "      <td>Southampton</td>\n",
       "      <td>yes</td>\n",
       "      <td>False</td>\n",
       "    </tr>\n",
       "    <tr>\n",
       "      <th>4</th>\n",
       "      <td>0</td>\n",
       "      <td>3</td>\n",
       "      <td>male</td>\n",
       "      <td>0.627451</td>\n",
       "      <td>0</td>\n",
       "      <td>0</td>\n",
       "      <td>0.131152</td>\n",
       "      <td>S</td>\n",
       "      <td>Third</td>\n",
       "      <td>man</td>\n",
       "      <td>True</td>\n",
       "      <td>Southampton</td>\n",
       "      <td>no</td>\n",
       "      <td>True</td>\n",
       "    </tr>\n",
       "    <tr>\n",
       "      <th>5</th>\n",
       "      <td>0</td>\n",
       "      <td>3</td>\n",
       "      <td>male</td>\n",
       "      <td>0.523512</td>\n",
       "      <td>0</td>\n",
       "      <td>0</td>\n",
       "      <td>0.137804</td>\n",
       "      <td>Q</td>\n",
       "      <td>Third</td>\n",
       "      <td>man</td>\n",
       "      <td>True</td>\n",
       "      <td>Queenstown</td>\n",
       "      <td>no</td>\n",
       "      <td>True</td>\n",
       "    </tr>\n",
       "    <tr>\n",
       "      <th>...</th>\n",
       "      <td>...</td>\n",
       "      <td>...</td>\n",
       "      <td>...</td>\n",
       "      <td>...</td>\n",
       "      <td>...</td>\n",
       "      <td>...</td>\n",
       "      <td>...</td>\n",
       "      <td>...</td>\n",
       "      <td>...</td>\n",
       "      <td>...</td>\n",
       "      <td>...</td>\n",
       "      <td>...</td>\n",
       "      <td>...</td>\n",
       "      <td>...</td>\n",
       "    </tr>\n",
       "    <tr>\n",
       "      <th>886</th>\n",
       "      <td>0</td>\n",
       "      <td>2</td>\n",
       "      <td>male</td>\n",
       "      <td>0.470588</td>\n",
       "      <td>0</td>\n",
       "      <td>0</td>\n",
       "      <td>0.211798</td>\n",
       "      <td>S</td>\n",
       "      <td>Second</td>\n",
       "      <td>man</td>\n",
       "      <td>True</td>\n",
       "      <td>Southampton</td>\n",
       "      <td>no</td>\n",
       "      <td>True</td>\n",
       "    </tr>\n",
       "    <tr>\n",
       "      <th>887</th>\n",
       "      <td>1</td>\n",
       "      <td>1</td>\n",
       "      <td>female</td>\n",
       "      <td>0.313725</td>\n",
       "      <td>0</td>\n",
       "      <td>0</td>\n",
       "      <td>0.488765</td>\n",
       "      <td>S</td>\n",
       "      <td>First</td>\n",
       "      <td>woman</td>\n",
       "      <td>False</td>\n",
       "      <td>Southampton</td>\n",
       "      <td>yes</td>\n",
       "      <td>True</td>\n",
       "    </tr>\n",
       "    <tr>\n",
       "      <th>888</th>\n",
       "      <td>0</td>\n",
       "      <td>3</td>\n",
       "      <td>female</td>\n",
       "      <td>0.523512</td>\n",
       "      <td>1</td>\n",
       "      <td>2</td>\n",
       "      <td>0.382051</td>\n",
       "      <td>S</td>\n",
       "      <td>Third</td>\n",
       "      <td>woman</td>\n",
       "      <td>False</td>\n",
       "      <td>Southampton</td>\n",
       "      <td>no</td>\n",
       "      <td>False</td>\n",
       "    </tr>\n",
       "    <tr>\n",
       "      <th>889</th>\n",
       "      <td>1</td>\n",
       "      <td>1</td>\n",
       "      <td>male</td>\n",
       "      <td>0.450980</td>\n",
       "      <td>0</td>\n",
       "      <td>0</td>\n",
       "      <td>0.488765</td>\n",
       "      <td>C</td>\n",
       "      <td>First</td>\n",
       "      <td>man</td>\n",
       "      <td>True</td>\n",
       "      <td>Cherbourg</td>\n",
       "      <td>yes</td>\n",
       "      <td>True</td>\n",
       "    </tr>\n",
       "    <tr>\n",
       "      <th>890</th>\n",
       "      <td>0</td>\n",
       "      <td>3</td>\n",
       "      <td>male</td>\n",
       "      <td>0.568627</td>\n",
       "      <td>0</td>\n",
       "      <td>0</td>\n",
       "      <td>0.126264</td>\n",
       "      <td>Q</td>\n",
       "      <td>Third</td>\n",
       "      <td>man</td>\n",
       "      <td>True</td>\n",
       "      <td>Queenstown</td>\n",
       "      <td>no</td>\n",
       "      <td>True</td>\n",
       "    </tr>\n",
       "  </tbody>\n",
       "</table>\n",
       "<p>718 rows × 14 columns</p>\n",
       "</div>"
      ],
      "text/plain": [
       "     survived  pclass     sex       age  sibsp  parch      fare embarked  \\\n",
       "0           0       3    male  0.372549      1      0  0.118118        S   \n",
       "2           1       3  female  0.450980      0      0  0.129115        S   \n",
       "3           1       1  female  0.627451      1      0  0.865114        S   \n",
       "4           0       3    male  0.627451      0      0  0.131152        S   \n",
       "5           0       3    male  0.523512      0      0  0.137804        Q   \n",
       "..        ...     ...     ...       ...    ...    ...       ...      ...   \n",
       "886         0       2    male  0.470588      0      0  0.211798        S   \n",
       "887         1       1  female  0.313725      0      0  0.488765        S   \n",
       "888         0       3  female  0.523512      1      2  0.382051        S   \n",
       "889         1       1    male  0.450980      0      0  0.488765        C   \n",
       "890         0       3    male  0.568627      0      0  0.126264        Q   \n",
       "\n",
       "      class    who  adult_male  embark_town alive  alone  \n",
       "0     Third    man        True  Southampton    no  False  \n",
       "2     Third  woman       False  Southampton   yes   True  \n",
       "3     First  woman       False  Southampton   yes  False  \n",
       "4     Third    man        True  Southampton    no   True  \n",
       "5     Third    man        True   Queenstown    no   True  \n",
       "..      ...    ...         ...          ...   ...    ...  \n",
       "886  Second    man        True  Southampton    no   True  \n",
       "887   First  woman       False  Southampton   yes   True  \n",
       "888   Third  woman       False  Southampton    no  False  \n",
       "889   First    man        True    Cherbourg   yes   True  \n",
       "890   Third    man        True   Queenstown    no   True  \n",
       "\n",
       "[718 rows x 14 columns]"
      ]
     },
     "execution_count": 240,
     "metadata": {},
     "output_type": "execute_result"
    }
   ],
   "source": [
    "# 1.Import libraries\n",
    "import pandas as pd\n",
    "from sklearn.preprocessing import MinMaxScaler\n",
    "\n",
    "# 2.data\n",
    "df\n",
    "# 3.select column to normalize\n",
    "columns_to_normalize = ['age', 'fare']\n",
    "#4.Create scaler function/tool means scaler object\n",
    "scaler = MinMaxScaler()\n",
    "#5.Fit and Transform the data on scaler object\n",
    "df[columns_to_normalize] = scaler.fit_transform(df[columns_to_normalize])\n",
    "#6.check data after scaling(normalization)\n",
    "df"
   ]
  },
  {
   "cell_type": "code",
   "execution_count": null,
   "id": "c2d2decf",
   "metadata": {},
   "outputs": [],
   "source": [
    "# Log transformation function of numpy library\n",
    "df['age'] =  np.log(df['age'])\n",
    "df['fare'] =  np.log(df['fare'])\n",
    "sns.boxplot(data=df,x='sex',y='age',hue='sex')"
   ]
  },
  {
   "cell_type": "code",
   "execution_count": null,
   "id": "fd5d7963",
   "metadata": {},
   "outputs": [],
   "source": [
    "df.describe() # summary statistics after normalization"
   ]
  },
  {
   "cell_type": "markdown",
   "id": "01054796",
   "metadata": {},
   "source": [
    "## 2.StandardScaler Technique"
   ]
  },
  {
   "cell_type": "code",
   "execution_count": null,
   "id": "097ee994",
   "metadata": {},
   "outputs": [],
   "source": [
    "# 1.Import libraries\n",
    "import pandas as pd\n",
    "from sklearn.preprocessing import StandardScaler\n",
    "# 2.data\n",
    "df\n",
    "# 3.select column to normalize\n",
    "columns_to_normalize = ['age', 'fare']\n",
    "#4.Create scaler function/tool means scaler object\n",
    "scaler = StandardScaler()\n",
    "#5.Fit and Transform the data on scaler object\n",
    "df[columns_to_normalize] = scaler.fit_transform(df[columns_to_normalize])\n",
    "#6.check data after scaling(normalization)\n",
    "df"
   ]
  },
  {
   "cell_type": "markdown",
   "id": "7dc5f987",
   "metadata": {},
   "source": [
    "## 3.Log Transformation Technique\n",
    "### 1.`np.log()` for data whose values are far to zero \n",
    "### 2.`np.log1p()` for data whose values are near to zero \n"
   ]
  },
  {
   "cell_type": "code",
   "execution_count": null,
   "metadata": {},
   "outputs": [],
   "source": [
    "import numpy as np\n",
    "dfnew = sns.load_dataset('titanic')\n",
    "\n",
    "dfnew['age'] = dfnew['age'].fillna(value=dfnew['age'].median())\n",
    "dfnew['fare'] = dfnew['fare'].fillna(value=dfnew['fare'].median())\n",
    "\n",
    "dfnew['age'] =  np.log(dfnew['age'])\n",
    "dfnew['fare'] =  np.log(dfnew['fare'])\n",
    "\n",
    "dfnew.head()"
   ]
  },
  {
   "cell_type": "code",
   "execution_count": null,
   "metadata": {},
   "outputs": [],
   "source": [
    "# boxplot to check outlier after log transformation\n",
    "sns.boxplot(data=dfnew,x='sex',y='fare')"
   ]
  },
  {
   "cell_type": "code",
   "execution_count": null,
   "metadata": {},
   "outputs": [],
   "source": [
    "sns.histplot(dfnew['age'])"
   ]
  },
  {
   "cell_type": "markdown",
   "id": "b51fda08",
   "metadata": {},
   "source": [
    "# 5. Organizing The Data \n",
    "> This step is For own or peoples understanding "
   ]
  },
  {
   "cell_type": "code",
   "execution_count": null,
   "metadata": {},
   "outputs": [],
   "source": [
    "# make (family size)column by combining two columns of dataframe"
   ]
  },
  {
   "cell_type": "markdown",
   "id": "e4b876ab",
   "metadata": {},
   "source": [
    "## 1.Create Columns "
   ]
  },
  {
   "cell_type": "code",
   "execution_count": 243,
   "metadata": {},
   "outputs": [],
   "source": [
    "df['family_size'] = df['sibsp'] + df['parch']"
   ]
  },
  {
   "cell_type": "markdown",
   "id": "080d7094",
   "metadata": {},
   "source": [
    "#### Histplot will tell benefits of new column created "
   ]
  },
  {
   "cell_type": "code",
   "execution_count": null,
   "id": "647f9bc8",
   "metadata": {},
   "outputs": [],
   "source": [
    "sns.histplot(data=df, x='family_size',hue='sex',alpha=0.9) # histogram of family size with kernel density estimate"
   ]
  },
  {
   "cell_type": "code",
   "execution_count": null,
   "id": "ff3c5c22",
   "metadata": {},
   "outputs": [],
   "source": [
    "sns.swarmplot(data=df,x='sex',y='family_size',hue='sex')"
   ]
  },
  {
   "cell_type": "code",
   "execution_count": null,
   "id": "8520ff44",
   "metadata": {},
   "outputs": [],
   "source": [
    "sns.swarmplot(data=df,x='sex',y='age',hue='family_size')"
   ]
  },
  {
   "cell_type": "markdown",
   "id": "da36a4f7",
   "metadata": {},
   "source": [
    "## 2.Rename Columns to get hidden understanding "
   ]
  },
  {
   "cell_type": "code",
   "execution_count": 244,
   "id": "5e74d439",
   "metadata": {},
   "outputs": [],
   "source": [
    "df = df.rename(columns={'survived':'survival'})"
   ]
  },
  {
   "cell_type": "markdown",
   "id": "440ca41c",
   "metadata": {},
   "source": [
    "## 3.A pivot table is a data summarization tool that:\n",
    "\n",
    "### 1.Aggregates (groups, calculates, summarizes) data from a larger table\n",
    "\n",
    "### 2.Rearranges data by moving variables between rows, columns, and values\n",
    "\n"
   ]
  },
  {
   "cell_type": "code",
   "execution_count": 248,
   "id": "69a58b1f",
   "metadata": {},
   "outputs": [
    {
     "data": {
      "text/html": [
       "<div>\n",
       "<style scoped>\n",
       "    .dataframe tbody tr th:only-of-type {\n",
       "        vertical-align: middle;\n",
       "    }\n",
       "\n",
       "    .dataframe tbody tr th {\n",
       "        vertical-align: top;\n",
       "    }\n",
       "\n",
       "    .dataframe thead th {\n",
       "        text-align: right;\n",
       "    }\n",
       "</style>\n",
       "<table border=\"1\" class=\"dataframe\">\n",
       "  <thead>\n",
       "    <tr style=\"text-align: right;\">\n",
       "      <th>survival</th>\n",
       "      <th>0</th>\n",
       "      <th>1</th>\n",
       "    </tr>\n",
       "    <tr>\n",
       "      <th>pclass</th>\n",
       "      <th></th>\n",
       "      <th></th>\n",
       "    </tr>\n",
       "  </thead>\n",
       "  <tbody>\n",
       "    <tr>\n",
       "      <th>1</th>\n",
       "      <td>22.522149</td>\n",
       "      <td>35.036780</td>\n",
       "    </tr>\n",
       "    <tr>\n",
       "      <th>2</th>\n",
       "      <td>23.120956</td>\n",
       "      <td>25.612776</td>\n",
       "    </tr>\n",
       "    <tr>\n",
       "      <th>3</th>\n",
       "      <td>70.174074</td>\n",
       "      <td>24.655474</td>\n",
       "    </tr>\n",
       "  </tbody>\n",
       "</table>\n",
       "</div>"
      ],
      "text/plain": [
       "survival          0          1\n",
       "pclass                        \n",
       "1         22.522149  35.036780\n",
       "2         23.120956  25.612776\n",
       "3         70.174074  24.655474"
      ]
     },
     "execution_count": 248,
     "metadata": {},
     "output_type": "execute_result"
    }
   ],
   "source": [
    "table= pd.pivot_table(df,values='fare',index='pclass',columns='survival',aggfunc='sum')\n",
    "table"
   ]
  },
  {
   "cell_type": "markdown",
   "id": "a6b06092",
   "metadata": {},
   "source": [
    "# 4. Check Relationship b/w data points "
   ]
  },
  {
   "cell_type": "code",
   "execution_count": 245,
   "id": "d51ba1f7",
   "metadata": {},
   "outputs": [
    {
     "data": {
      "text/plain": [
       "<Axes: xlabel='fare', ylabel='age'>"
      ]
     },
     "execution_count": 245,
     "metadata": {},
     "output_type": "execute_result"
    },
    {
     "data": {
      "image/png": "[encoded data removed]",
      "text/plain": [
       "<Figure size 640x480 with 1 Axes>"
      ]
     },
     "metadata": {},
     "output_type": "display_data"
    }
   ],
   "source": [
    "sns.scatterplot(data=df,x='fare',y='age',hue='survival',alpha=1) # scatter plot of fare vs age with hue for survival"
   ]
  },
  {
   "cell_type": "code",
   "execution_count": 241,
   "id": "205b2c68",
   "metadata": {},
   "outputs": [
    {
     "data": {
      "text/html": [
       "<div>\n",
       "<style scoped>\n",
       "    .dataframe tbody tr th:only-of-type {\n",
       "        vertical-align: middle;\n",
       "    }\n",
       "\n",
       "    .dataframe tbody tr th {\n",
       "        vertical-align: top;\n",
       "    }\n",
       "\n",
       "    .dataframe thead th {\n",
       "        text-align: right;\n",
       "    }\n",
       "</style>\n",
       "<table border=\"1\" class=\"dataframe\">\n",
       "  <thead>\n",
       "    <tr style=\"text-align: right;\">\n",
       "      <th></th>\n",
       "      <th>survived</th>\n",
       "      <th>pclass</th>\n",
       "      <th>sex</th>\n",
       "      <th>age</th>\n",
       "      <th>sibsp</th>\n",
       "      <th>parch</th>\n",
       "      <th>fare</th>\n",
       "      <th>embarked</th>\n",
       "      <th>class</th>\n",
       "      <th>who</th>\n",
       "      <th>adult_male</th>\n",
       "      <th>embark_town</th>\n",
       "      <th>alive</th>\n",
       "      <th>alone</th>\n",
       "    </tr>\n",
       "  </thead>\n",
       "  <tbody>\n",
       "    <tr>\n",
       "      <th>0</th>\n",
       "      <td>0</td>\n",
       "      <td>3</td>\n",
       "      <td>male</td>\n",
       "      <td>0.372549</td>\n",
       "      <td>1</td>\n",
       "      <td>0</td>\n",
       "      <td>0.118118</td>\n",
       "      <td>S</td>\n",
       "      <td>Third</td>\n",
       "      <td>man</td>\n",
       "      <td>True</td>\n",
       "      <td>Southampton</td>\n",
       "      <td>no</td>\n",
       "      <td>False</td>\n",
       "    </tr>\n",
       "    <tr>\n",
       "      <th>2</th>\n",
       "      <td>1</td>\n",
       "      <td>3</td>\n",
       "      <td>female</td>\n",
       "      <td>0.450980</td>\n",
       "      <td>0</td>\n",
       "      <td>0</td>\n",
       "      <td>0.129115</td>\n",
       "      <td>S</td>\n",
       "      <td>Third</td>\n",
       "      <td>woman</td>\n",
       "      <td>False</td>\n",
       "      <td>Southampton</td>\n",
       "      <td>yes</td>\n",
       "      <td>True</td>\n",
       "    </tr>\n",
       "    <tr>\n",
       "      <th>3</th>\n",
       "      <td>1</td>\n",
       "      <td>1</td>\n",
       "      <td>female</td>\n",
       "      <td>0.627451</td>\n",
       "      <td>1</td>\n",
       "      <td>0</td>\n",
       "      <td>0.865114</td>\n",
       "      <td>S</td>\n",
       "      <td>First</td>\n",
       "      <td>woman</td>\n",
       "      <td>False</td>\n",
       "      <td>Southampton</td>\n",
       "      <td>yes</td>\n",
       "      <td>False</td>\n",
       "    </tr>\n",
       "    <tr>\n",
       "      <th>4</th>\n",
       "      <td>0</td>\n",
       "      <td>3</td>\n",
       "      <td>male</td>\n",
       "      <td>0.627451</td>\n",
       "      <td>0</td>\n",
       "      <td>0</td>\n",
       "      <td>0.131152</td>\n",
       "      <td>S</td>\n",
       "      <td>Third</td>\n",
       "      <td>man</td>\n",
       "      <td>True</td>\n",
       "      <td>Southampton</td>\n",
       "      <td>no</td>\n",
       "      <td>True</td>\n",
       "    </tr>\n",
       "    <tr>\n",
       "      <th>5</th>\n",
       "      <td>0</td>\n",
       "      <td>3</td>\n",
       "      <td>male</td>\n",
       "      <td>0.523512</td>\n",
       "      <td>0</td>\n",
       "      <td>0</td>\n",
       "      <td>0.137804</td>\n",
       "      <td>Q</td>\n",
       "      <td>Third</td>\n",
       "      <td>man</td>\n",
       "      <td>True</td>\n",
       "      <td>Queenstown</td>\n",
       "      <td>no</td>\n",
       "      <td>True</td>\n",
       "    </tr>\n",
       "  </tbody>\n",
       "</table>\n",
       "</div>"
      ],
      "text/plain": [
       "   survived  pclass     sex       age  sibsp  parch      fare embarked  class  \\\n",
       "0         0       3    male  0.372549      1      0  0.118118        S  Third   \n",
       "2         1       3  female  0.450980      0      0  0.129115        S  Third   \n",
       "3         1       1  female  0.627451      1      0  0.865114        S  First   \n",
       "4         0       3    male  0.627451      0      0  0.131152        S  Third   \n",
       "5         0       3    male  0.523512      0      0  0.137804        Q  Third   \n",
       "\n",
       "     who  adult_male  embark_town alive  alone  \n",
       "0    man        True  Southampton    no  False  \n",
       "2  woman       False  Southampton   yes   True  \n",
       "3  woman       False  Southampton   yes  False  \n",
       "4    man        True  Southampton    no   True  \n",
       "5    man        True   Queenstown    no   True  "
      ]
     },
     "execution_count": 241,
     "metadata": {},
     "output_type": "execute_result"
    }
   ],
   "source": [
    "df.head()"
   ]
  },
  {
   "cell_type": "markdown",
   "id": "6323e7c7",
   "metadata": {},
   "source": [
    "## Line Plot for Time-Series Analysis "
   ]
  },
  {
   "cell_type": "code",
   "execution_count": 246,
   "id": "fb940cab",
   "metadata": {},
   "outputs": [
    {
     "data": {
      "text/plain": [
       "<Axes: xlabel='family_size', ylabel='age'>"
      ]
     },
     "execution_count": 246,
     "metadata": {},
     "output_type": "execute_result"
    },
    {
     "data": {
      "image/png": "[encoded data removed]",
      "text/plain": [
       "<Figure size 640x480 with 1 Axes>"
      ]
     },
     "metadata": {},
     "output_type": "display_data"
    }
   ],
   "source": [
    "\n",
    "sns.lineplot(data=df,x='family_size',y='age')"
   ]
  },
  {
   "cell_type": "code",
   "execution_count": 247,
   "id": "eb5b7a34",
   "metadata": {},
   "outputs": [
    {
     "data": {
      "image/png": "[encoded data removed]",
      "text/plain": [
       "<Figure size 640x480 with 1 Axes>"
      ]
     },
     "metadata": {},
     "output_type": "display_data"
    }
   ],
   "source": [
    "import seaborn as sns  \n",
    "titanic = sns.load_dataset('titanic')  \n",
    "\n",
    "# Create the scatter plot  \n",
    "sns.scatterplot(  \n",
    "    x='survived',   \n",
    "    y='fare',   \n",
    "    data=titanic,  \n",
    "    hue='class'  # Color-code by passenger class  \n",
    ")  \n",
    "plt.title(\"Titanic Survival by Fare Price\")  \n",
    "plt.show()  "
   ]
  }
 ],
 "metadata": {
  "kernelspec": {
   "display_name": "python_ml",
   "language": "python",
   "name": "python3"
  },
  "language_info": {
   "codemirror_mode": {
    "name": "ipython",
    "version": 3
   },
   "file_extension": ".py",
   "mimetype": "text/x-python",
   "name": "python",
   "nbconvert_exporter": "python",
   "pygments_lexer": "ipython3",
   "version": "3.10.0"
  }
 },
 "nbformat": 4,
 "nbformat_minor": 5
}
