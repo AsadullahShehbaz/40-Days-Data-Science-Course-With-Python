{
 "cells": [
  {
   "cell_type": "markdown",
   "id": "f3fd841f",
   "metadata": {},
   "source": [
    "# Six Classifier Models of Supervised ML"
   ]
  },
  {
   "cell_type": "markdown",
   "id": "3df97745",
   "metadata": {},
   "source": [
    "# 1.Decision Tree "
   ]
  },
  {
   "cell_type": "code",
   "execution_count": 2,
   "id": "b931fa4c",
   "metadata": {},
   "outputs": [],
   "source": [
    "# import libraries\n",
    "import numpy as np\n",
    "import pandas as pd\n",
    "import seaborn as sns \n",
    "import matplotlib.pyplot as plt\n",
    "\n",
    "from sklearn.model_selection import train_test_split\n",
    "from sklearn.tree import DecisionTreeClassifier\n",
    "from sklearn import tree \n",
    "from sklearn.metrics import classification_report, confusion_matrix"
   ]
  },
  {
   "cell_type": "markdown",
   "id": "e5874bc8",
   "metadata": {},
   "source": [
    "# Load Data for ML"
   ]
  },
  {
   "cell_type": "code",
   "execution_count": 4,
   "id": "8a1a46d0",
   "metadata": {},
   "outputs": [],
   "source": [
    "df = sns.load_dataset('titanic')\n",
    "X = df[['pclass','sex','age','sibsp','parch','fare']]\n",
    "y = df['survived']"
   ]
  },
  {
   "cell_type": "code",
   "execution_count": 5,
   "id": "9f2d49a1",
   "metadata": {},
   "outputs": [],
   "source": [
    "X = pd.get_dummies(X,columns=['sex']) # one hot encoding for categorical data to numerical data conversion "
   ]
  },
  {
   "cell_type": "code",
   "execution_count": 6,
   "id": "78380dd4",
   "metadata": {},
   "outputs": [
    {
     "data": {
      "text/html": [
       "<div>\n",
       "<style scoped>\n",
       "    .dataframe tbody tr th:only-of-type {\n",
       "        vertical-align: middle;\n",
       "    }\n",
       "\n",
       "    .dataframe tbody tr th {\n",
       "        vertical-align: top;\n",
       "    }\n",
       "\n",
       "    .dataframe thead th {\n",
       "        text-align: right;\n",
       "    }\n",
       "</style>\n",
       "<table border=\"1\" class=\"dataframe\">\n",
       "  <thead>\n",
       "    <tr style=\"text-align: right;\">\n",
       "      <th></th>\n",
       "      <th>pclass</th>\n",
       "      <th>age</th>\n",
       "      <th>sibsp</th>\n",
       "      <th>parch</th>\n",
       "      <th>fare</th>\n",
       "      <th>sex_female</th>\n",
       "      <th>sex_male</th>\n",
       "    </tr>\n",
       "  </thead>\n",
       "  <tbody>\n",
       "    <tr>\n",
       "      <th>0</th>\n",
       "      <td>3</td>\n",
       "      <td>22.0</td>\n",
       "      <td>1</td>\n",
       "      <td>0</td>\n",
       "      <td>7.2500</td>\n",
       "      <td>False</td>\n",
       "      <td>True</td>\n",
       "    </tr>\n",
       "    <tr>\n",
       "      <th>1</th>\n",
       "      <td>1</td>\n",
       "      <td>38.0</td>\n",
       "      <td>1</td>\n",
       "      <td>0</td>\n",
       "      <td>71.2833</td>\n",
       "      <td>True</td>\n",
       "      <td>False</td>\n",
       "    </tr>\n",
       "    <tr>\n",
       "      <th>2</th>\n",
       "      <td>3</td>\n",
       "      <td>26.0</td>\n",
       "      <td>0</td>\n",
       "      <td>0</td>\n",
       "      <td>7.9250</td>\n",
       "      <td>True</td>\n",
       "      <td>False</td>\n",
       "    </tr>\n",
       "    <tr>\n",
       "      <th>3</th>\n",
       "      <td>1</td>\n",
       "      <td>35.0</td>\n",
       "      <td>1</td>\n",
       "      <td>0</td>\n",
       "      <td>53.1000</td>\n",
       "      <td>True</td>\n",
       "      <td>False</td>\n",
       "    </tr>\n",
       "    <tr>\n",
       "      <th>4</th>\n",
       "      <td>3</td>\n",
       "      <td>35.0</td>\n",
       "      <td>0</td>\n",
       "      <td>0</td>\n",
       "      <td>8.0500</td>\n",
       "      <td>False</td>\n",
       "      <td>True</td>\n",
       "    </tr>\n",
       "    <tr>\n",
       "      <th>...</th>\n",
       "      <td>...</td>\n",
       "      <td>...</td>\n",
       "      <td>...</td>\n",
       "      <td>...</td>\n",
       "      <td>...</td>\n",
       "      <td>...</td>\n",
       "      <td>...</td>\n",
       "    </tr>\n",
       "    <tr>\n",
       "      <th>886</th>\n",
       "      <td>2</td>\n",
       "      <td>27.0</td>\n",
       "      <td>0</td>\n",
       "      <td>0</td>\n",
       "      <td>13.0000</td>\n",
       "      <td>False</td>\n",
       "      <td>True</td>\n",
       "    </tr>\n",
       "    <tr>\n",
       "      <th>887</th>\n",
       "      <td>1</td>\n",
       "      <td>19.0</td>\n",
       "      <td>0</td>\n",
       "      <td>0</td>\n",
       "      <td>30.0000</td>\n",
       "      <td>True</td>\n",
       "      <td>False</td>\n",
       "    </tr>\n",
       "    <tr>\n",
       "      <th>888</th>\n",
       "      <td>3</td>\n",
       "      <td>NaN</td>\n",
       "      <td>1</td>\n",
       "      <td>2</td>\n",
       "      <td>23.4500</td>\n",
       "      <td>True</td>\n",
       "      <td>False</td>\n",
       "    </tr>\n",
       "    <tr>\n",
       "      <th>889</th>\n",
       "      <td>1</td>\n",
       "      <td>26.0</td>\n",
       "      <td>0</td>\n",
       "      <td>0</td>\n",
       "      <td>30.0000</td>\n",
       "      <td>False</td>\n",
       "      <td>True</td>\n",
       "    </tr>\n",
       "    <tr>\n",
       "      <th>890</th>\n",
       "      <td>3</td>\n",
       "      <td>32.0</td>\n",
       "      <td>0</td>\n",
       "      <td>0</td>\n",
       "      <td>7.7500</td>\n",
       "      <td>False</td>\n",
       "      <td>True</td>\n",
       "    </tr>\n",
       "  </tbody>\n",
       "</table>\n",
       "<p>891 rows × 7 columns</p>\n",
       "</div>"
      ],
      "text/plain": [
       "     pclass   age  sibsp  parch     fare  sex_female  sex_male\n",
       "0         3  22.0      1      0   7.2500       False      True\n",
       "1         1  38.0      1      0  71.2833        True     False\n",
       "2         3  26.0      0      0   7.9250        True     False\n",
       "3         1  35.0      1      0  53.1000        True     False\n",
       "4         3  35.0      0      0   8.0500       False      True\n",
       "..      ...   ...    ...    ...      ...         ...       ...\n",
       "886       2  27.0      0      0  13.0000       False      True\n",
       "887       1  19.0      0      0  30.0000        True     False\n",
       "888       3   NaN      1      2  23.4500        True     False\n",
       "889       1  26.0      0      0  30.0000       False      True\n",
       "890       3  32.0      0      0   7.7500       False      True\n",
       "\n",
       "[891 rows x 7 columns]"
      ]
     },
     "execution_count": 6,
     "metadata": {},
     "output_type": "execute_result"
    }
   ],
   "source": [
    "X"
   ]
  },
  {
   "cell_type": "code",
   "execution_count": null,
   "id": "e298e86e",
   "metadata": {},
   "outputs": [],
   "source": [
    "df.isnull().sum()\n",
    "X.age.fillna(value=X.age.mean(),inplace=True)"
   ]
  },
  {
   "cell_type": "markdown",
   "id": "81bb6b4b",
   "metadata": {},
   "source": [
    "# Train Test Split Function"
   ]
  },
  {
   "cell_type": "code",
   "execution_count": null,
   "id": "f2e9962e",
   "metadata": {},
   "outputs": [],
   "source": [
    "# TRAIN TEST \n",
    "# split data into training and testing sets\n",
    "X_train, X_test, y_train, y_test = train_test_split(X,y,test_size=0.3,random_state=42)"
   ]
  },
  {
   "cell_type": "markdown",
   "id": "c70cb92b",
   "metadata": {},
   "source": [
    "# Create and Train Model"
   ]
  },
  {
   "cell_type": "code",
   "execution_count": null,
   "id": "a2462564",
   "metadata": {},
   "outputs": [],
   "source": [
    "model = DecisionTreeClassifier()\n",
    "model.fit(X_train,y_train)"
   ]
  },
  {
   "cell_type": "code",
   "execution_count": null,
   "id": "e7902d20",
   "metadata": {},
   "outputs": [],
   "source": [
    "y_pred = model.predict(X_test)"
   ]
  },
  {
   "cell_type": "markdown",
   "id": "0340a8b2",
   "metadata": {},
   "source": [
    "# Check Score of Model "
   ]
  },
  {
   "cell_type": "markdown",
   "id": "045f1bac",
   "metadata": {},
   "source": [
    "## 1.Precision measures the proportion of true positive predictions among all positive predictions\n",
    "## 2.Recall measures the proportion of true positive predictions among all true positive instances"
   ]
  },
  {
   "cell_type": "code",
   "execution_count": null,
   "id": "b7727597",
   "metadata": {},
   "outputs": [],
   "source": [
    "# evaluate performance of model\n",
    "from sklearn.metrics import accuracy_score,precision_score,recall_score,f1_score\n",
    "print('Accuracy Score : ',accuracy_score(y_test,y_pred))\n",
    "print('Precision Score : ',precision_score(y_test,y_pred))\n",
    "print('Recall Score : ',recall_score(y_test,y_pred))\n",
    "print('F1 Score : ',f1_score(y_test,y_pred)) # harmonic mean of "
   ]
  },
  {
   "cell_type": "markdown",
   "id": "a6d3716d",
   "metadata": {},
   "source": [
    "# To Print Decision Tree Plot "
   ]
  },
  {
   "cell_type": "code",
   "execution_count": null,
   "id": "955c4f04",
   "metadata": {},
   "outputs": [],
   "source": [
    "tree.plot_tree(model.fit(X,y),filled=True)\n",
    "plt.show()\n",
    "plt.savefig('tree.png')"
   ]
  },
  {
   "cell_type": "code",
   "execution_count": null,
   "id": "b90bf245",
   "metadata": {},
   "outputs": [],
   "source": [
    "plt.figure(figsize=(20,10)) # width : 20 and inch : 10\n",
    "tree.plot_tree(model.fit(X,y),filled=True)\n",
    "plt.show()\n",
    "plt.savefig('Decision Tree.pdf',format='pdf',dpi=300)"
   ]
  },
  {
   "cell_type": "markdown",
   "id": "d79c3b62",
   "metadata": {},
   "source": [
    "## Create ConfusionMatrix"
   ]
  },
  {
   "cell_type": "code",
   "execution_count": null,
   "id": "4530e573",
   "metadata": {},
   "outputs": [],
   "source": [
    "from sklearn.metrics import confusion_matrix\n",
    "cm = confusion_matrix(y_test,y_pred)"
   ]
  },
  {
   "cell_type": "code",
   "execution_count": null,
   "id": "2b8cd735",
   "metadata": {},
   "outputs": [],
   "source": [
    "sns.heatmap(cm,annot=True,fmt='d',cmap='Greens')\n",
    "plt.xticks([0.5,1.5],['Not Survived','Survived'])\n",
    "plt.xlabel('Predicted Label')\n",
    "plt.yticks([0.5,1.5],['Not Survived','Survived'])\n",
    "plt.ylabel('True Label')"
   ]
  },
  {
   "cell_type": "markdown",
   "id": "c7ed04e7",
   "metadata": {},
   "source": [
    "# 2.K Nearest Neighbour KNN"
   ]
  },
  {
   "cell_type": "code",
   "execution_count": null,
   "id": "42f18d93",
   "metadata": {},
   "outputs": [],
   "source": [
    "from sklearn.neighbors import KNeighborsClassifier\n",
    "model = KNeighborsClassifier(n_neighbors=5)\n",
    "model.fit(X_train,y_train)\n",
    "y_pred = model.predict(X_test)\n",
    "print(f'y_pred : {y_pred}')\n",
    "cm = confusion_matrix(y_test,y_pred)\n",
    "cm"
   ]
  },
  {
   "cell_type": "code",
   "execution_count": null,
   "id": "5fec673d",
   "metadata": {},
   "outputs": [],
   "source": [
    "sns.heatmap(cm, annot=True, fmt='d', cmap='Greens')\n",
    "plt.title('Confusion Matrix Heatmap')\n",
    "plt.xlabel('Predicted')\n",
    "plt.ylabel('Actual')\n",
    "plt.xticks([0.5, 1.5], ['Not Survived', 'Survived'])\n",
    "plt.yticks([0.5, 1.5], ['Not Survived', 'Survived'], rotation=0)\n",
    "plt.show()"
   ]
  },
  {
   "cell_type": "markdown",
   "id": "de43a9b4",
   "metadata": {},
   "source": [
    "# 3.Random Forest "
   ]
  },
  {
   "cell_type": "code",
   "execution_count": null,
   "id": "ae43fed3",
   "metadata": {},
   "outputs": [],
   "source": [
    "# random forest \n",
    "from sklearn.ensemble import RandomForestClassifier\n",
    "sns.load_dataset('titanic')\n",
    "# set X and Y\n",
    "X = df[['pclass','sex','age','sibsp','parch','fare']]\n",
    "y = df['survived']\n",
    "# one hot encoding\n",
    "X = pd.get_dummies(X,columns=['sex'])\n",
    "# remove null \n",
    "X.age.fillna(value=X.age.mean(),inplace=True)\n",
    "# train test split\n",
    "X_train,X_test,y_train,y_test = train_test_split(X,y,test_size=0.2,random_state=42)\n",
    "# create model\n",
    "model = RandomForestClassifier()\n",
    "model.fit(X_train,y_train)\n",
    "# predict value\n",
    "y_pred = model.predict(X_test)\n"
   ]
  },
  {
   "cell_type": "code",
   "execution_count": null,
   "id": "152525f4",
   "metadata": {},
   "outputs": [],
   "source": [
    "cm = confusion_matrix(y_test,y_pred)\n",
    "print('Confusion Matrix : ',cm)\n",
    "print('Accuracy Score : ',accuracy_score(y_test,y_pred))\n",
    "print('Precision Score : ',precision_score(y_test,y_pred))\n",
    "print('Recall Score : ',recall_score(y_test,y_pred))\n",
    "print('F1 Score : ',f1_score(y_test,y_pred))"
   ]
  },
  {
   "cell_type": "markdown",
   "id": "9de6a231",
   "metadata": {},
   "source": [
    "# 4.Logistic Regression"
   ]
  },
  {
   "cell_type": "code",
   "execution_count": null,
   "id": "91307125",
   "metadata": {},
   "outputs": [],
   "source": [
    "from sklearn.linear_model import LogisticRegression\n",
    "\n",
    "model = LogisticRegression()\n",
    "model.fit(X_train,y_train)\n",
    "y_pred = model.predict(X_test)\n",
    "cm = confusion_matrix(y_test,y_pred)\n",
    "print('Confusion Matrix : ',cm)\n",
    "print('Accuracy Score : ',accuracy_score(y_test,y_pred))\n",
    "print('Precision Score : ',precision_score(y_test,y_pred))\n",
    "print('Recall Score : ',recall_score(y_test,y_pred))\n",
    "print('F1 Score : ',f1_score(y_test,y_pred))"
   ]
  },
  {
   "cell_type": "markdown",
   "id": "d90b01ce",
   "metadata": {},
   "source": [
    "# 5.Standard Vector Machine"
   ]
  },
  {
   "cell_type": "code",
   "execution_count": null,
   "id": "b281d956",
   "metadata": {},
   "outputs": [],
   "source": [
    "from sklearn.svm import SVC\n",
    "model = SVC().fit(X_train,y_train)\n",
    "y_pred = model.predict(X_test)\n",
    "cm = confusion_matrix(y_test,y_pred)\n",
    "print(cm)\n",
    "print(f'accuracy_score : {accuracy_score(y_test,y_pred)}')\n",
    "print(f'f1 : {f1_score(y_test,y_pred)}')\n",
    "print(f'precision_score : {precision_score(y_test,y_pred)}')"
   ]
  },
  {
   "cell_type": "markdown",
   "id": "5ef13588",
   "metadata": {},
   "source": [
    "# 6.Naive Bayes"
   ]
  },
  {
   "cell_type": "code",
   "execution_count": 43,
   "id": "17f3231b",
   "metadata": {},
   "outputs": [
    {
     "name": "stdout",
     "output_type": "stream",
     "text": [
      "[[88 17]\n",
      " [21 53]]\n",
      "accuracy_score : 0.7877094972067039\n",
      "f1 : 0.7361111111111112\n",
      "precision_score : 0.7571428571428571\n"
     ]
    }
   ],
   "source": [
    "from sklearn.naive_bayes import GaussianNB\n",
    "model = GaussianNB()\n",
    "model.fit(X_train,y_train)\n",
    "y_pred = model.predict(X_test)\n",
    "cm = confusion_matrix(y_test,y_pred)\n",
    "print(cm)\n",
    "print(f'accuracy_score : {accuracy_score(y_test,y_pred)}')\n",
    "print(f'f1 : {f1_score(y_test,y_pred)}')\n",
    "print(f'precision_score : {precision_score(y_test,y_pred)}')"
   ]
  }
 ],
 "metadata": {
  "kernelspec": {
   "display_name": "base",
   "language": "python",
   "name": "python3"
  },
  "language_info": {
   "codemirror_mode": {
    "name": "ipython",
    "version": 3
   },
   "file_extension": ".py",
   "mimetype": "text/x-python",
   "name": "python",
   "nbconvert_exporter": "python",
   "pygments_lexer": "ipython3",
   "version": "3.12.7"
  }
 },
 "nbformat": 4,
 "nbformat_minor": 5
}
