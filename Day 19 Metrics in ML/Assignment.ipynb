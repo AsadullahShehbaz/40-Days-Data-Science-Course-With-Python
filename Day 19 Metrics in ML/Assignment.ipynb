{
 "cells": [
  {
   "cell_type": "markdown",
   "id": "896bdb01",
   "metadata": {},
   "source": [
    "# Tips Dataset Model "
   ]
  },
  {
   "cell_type": "code",
   "execution_count": null,
   "id": "b3c24387",
   "metadata": {},
   "outputs": [],
   "source": [
    "import numpy as np\n",
    "import pandas as pd\n",
    "import matplotlib.pyplot as plt\n",
    "import seaborn as sns"
   ]
  },
  {
   "cell_type": "code",
   "execution_count": null,
   "id": "30b8f9dc",
   "metadata": {},
   "outputs": [],
   "source": [
    "from sklearn.tree import DecisionTreeClassifier\n",
    "from sklearn.ensemble import RandomForestClassifier\n",
    "from sklearn.neighbors import KNeighborsClassifier\n",
    "from sklearn.svm import SVC\n",
    "from sklearn.linear_model import LogisticRegression\n",
    "from sklearn.model_selection import train_test_split,cross_val_score"
   ]
  },
  {
   "cell_type": "markdown",
   "id": "b010928b",
   "metadata": {},
   "source": [
    "# 1.Import Dataset"
   ]
  },
  {
   "cell_type": "code",
   "execution_count": null,
   "id": "ab035105",
   "metadata": {},
   "outputs": [],
   "source": [
    "df = sns.load_dataset('tips')\n",
    "df.head()"
   ]
  },
  {
   "cell_type": "markdown",
   "id": "8c379fac",
   "metadata": {},
   "source": [
    "# 2.Preprocessing"
   ]
  },
  {
   "cell_type": "code",
   "execution_count": null,
   "id": "8cd35632",
   "metadata": {},
   "outputs": [],
   "source": [
    "df.isnull().sum()\n",
    "df.duplicated().sum()\n",
    "df = pd.get_dummies(df, columns=['sex', 'day', 'time'], drop_first=True)\n",
    "df['smoker'] = df['smoker'].map({'Yes': 1, 'No': 0})"
   ]
  },
  {
   "cell_type": "markdown",
   "id": "72ebfd95",
   "metadata": {},
   "source": [
    "# 3.Create X and Y"
   ]
  },
  {
   "cell_type": "code",
   "execution_count": null,
   "id": "ff665c74",
   "metadata": {},
   "outputs": [],
   "source": [
    "X = df.drop(columns=['smoker'])\n",
    "y = df['smoker']"
   ]
  },
  {
   "cell_type": "code",
   "execution_count": null,
   "id": "c4bb27ec",
   "metadata": {},
   "outputs": [],
   "source": [
    "df.head()"
   ]
  },
  {
   "cell_type": "markdown",
   "id": "5cf1e6f3",
   "metadata": {},
   "source": [
    "# 5.Train Test Split"
   ]
  },
  {
   "cell_type": "code",
   "execution_count": null,
   "id": "6777b555",
   "metadata": {},
   "outputs": [],
   "source": [
    "X_train,X_test,y_train,y_test = train_test_split(X,y,test_size=0.2,random_state=42)"
   ]
  },
  {
   "cell_type": "markdown",
   "id": "e16c4760",
   "metadata": {},
   "source": [
    "# 6.Create and Train Model"
   ]
  },
  {
   "cell_type": "code",
   "execution_count": null,
   "id": "aa05f1d2",
   "metadata": {},
   "outputs": [],
   "source": [
    "from sklearn.metrics import accuracy_score,precision_score,recall_score,f1_score\n",
    "model = DecisionTreeClassifier()\n",
    "model.fit(X_train,y_train)\n",
    "y_pred = model.predict(X_test)"
   ]
  },
  {
   "cell_type": "code",
   "execution_count": null,
   "id": "99dc5821",
   "metadata": {},
   "outputs": [],
   "source": [
    "# Step 9: Evaluation\n",
    "acc = accuracy_score(y_test, y_pred)\n",
    "prec = precision_score(y_test, y_pred)\n",
    "rec = recall_score(y_test, y_pred)\n",
    "f1 = f1_score(y_test, y_pred)\n",
    "\n",
    "# Step 10: Display results\n",
    "print(\"🔍 Model Evaluation Metrics\")\n",
    "print(f\"Accuracy Score  : {acc:.2f}\")\n",
    "print(f\"Precision Score : {prec:.2f}\")\n",
    "print(f\"Recall Score    : {rec:.2f}\")\n",
    "print(f\"F1 Score        : {f1:.2f}\")\n"
   ]
  },
  {
   "cell_type": "markdown",
   "id": "a041a429",
   "metadata": {},
   "source": [
    "# Decision Tree Plot "
   ]
  },
  {
   "cell_type": "code",
   "execution_count": null,
   "id": "e212be58",
   "metadata": {},
   "outputs": [],
   "source": [
    "from sklearn import tree \n",
    "plt.figure(figsize=(20,10))\n",
    "tree.plot_tree(model.fit(X,y),filled=True)\n",
    "plt.show()"
   ]
  },
  {
   "cell_type": "code",
   "execution_count": null,
   "id": "1b50d734",
   "metadata": {},
   "outputs": [],
   "source": [
    "from sklearn.metrics import confusion_matrix\n",
    "cm = confusion_matrix(y_test,y_pred)"
   ]
  },
  {
   "cell_type": "code",
   "execution_count": null,
   "id": "4ff810e3",
   "metadata": {},
   "outputs": [],
   "source": [
    "sns.heatmap(cm,annot=True,fmt='d',cmap='Greens')\n",
    "plt.title('Confusion Matrix Heatmap')\n",
    "plt.xticks([0.5,1.5],['Not Smoker',' Smoker'])\n",
    "plt.yticks([0.5,1.5],['Not Smoker',' Smoker'], rotation=0)\n",
    "plt.xlabel('Predicted Label')\n",
    "plt.ylabel('Actual Label')"
   ]
  },
  {
   "cell_type": "markdown",
   "id": "cc5ba851",
   "metadata": {},
   "source": [
    "# Define Models to Evaluate"
   ]
  },
  {
   "cell_type": "code",
   "execution_count": null,
   "id": "9fb4a9c4",
   "metadata": {},
   "outputs": [],
   "source": [
    "models = [LogisticRegression(),RandomForestClassifier(),KNeighborsClassifier(),SVC()]\n",
    "\n",
    "names = ['LogisticRegression','DecisionTree','KNN','SVC']"
   ]
  },
  {
   "cell_type": "markdown",
   "id": "e7e5fb5e",
   "metadata": {},
   "source": [
    "# Define K-Fold CV "
   ]
  },
  {
   "cell_type": "code",
   "execution_count": null,
   "id": "5198a457",
   "metadata": {},
   "outputs": [],
   "source": [
    "k = 10\n",
    "for name , model in zip(names,models):\n",
    "    score = cross_val_score(model,X_train,y_train,cv=k)\n",
    "    print(f'{name} CV Accuracy : {np.mean(score):.2f} +/- {np.std(score):.2f}')"
   ]
  },
  {
   "cell_type": "markdown",
   "id": "6e0a1726",
   "metadata": {},
   "source": [
    "# Apply Hyper Parameter Tuning on SVC"
   ]
  },
  {
   "cell_type": "code",
   "execution_count": null,
   "id": "8a5b2c01",
   "metadata": {},
   "outputs": [],
   "source": [
    "from sklearn.model_selection import GridSearchCV\n",
    "# define parameters\n",
    "param_grid = {\n",
    "    'C':[0.1,1,10],\n",
    "    'kernel':['linear','rbf'],\n",
    "    'gamma':[0.1,1,10]\n",
    "}\n",
    "grid_search = GridSearchCV(SVC(),param_grid,cv=5)\n",
    "grid_search.fit(X_train,y_train)"
   ]
  },
  {
   "cell_type": "code",
   "execution_count": null,
   "id": "72d946db",
   "metadata": {},
   "outputs": [],
   "source": [
    "print(f'Best Parameters : {grid_search.best_params_}')\n",
    "print(f'Best Score : {grid_search.best_score_}')"
   ]
  },
  {
   "cell_type": "markdown",
   "id": "a5cb65b4",
   "metadata": {},
   "source": [
    "# Accuracy Score of All Models"
   ]
  },
  {
   "cell_type": "code",
   "execution_count": 245,
   "id": "b4665f44",
   "metadata": {},
   "outputs": [],
   "source": [
    "model_score = []\n",
    "for name , model in zip(names,models):\n",
    "    model.fit(X_train,y_train)\n",
    "    y_pred = model.predict(X_test)\n",
    "    acc = accuracy_score(y_test,y_pred)\n",
    "    model_score.append([name,acc])"
   ]
  },
  {
   "cell_type": "code",
   "execution_count": 252,
   "id": "7cdf86c8",
   "metadata": {},
   "outputs": [],
   "source": [
    "sorted_model = sorted(model_score,key=lambda x:x[1],reverse=True)"
   ]
  },
  {
   "cell_type": "code",
   "execution_count": 255,
   "id": "ec962cad",
   "metadata": {},
   "outputs": [
    {
     "name": "stdout",
     "output_type": "stream",
     "text": [
      "LogisticRegression : 0.73\n",
      "DecisionTree : 0.67\n",
      "KNN : 0.65\n",
      "SVC : 0.59\n"
     ]
    }
   ],
   "source": [
    "for model in sorted_model:    \n",
    "    print(f'{model[0]} : {model[1]:.2f}')"
   ]
  }
 ],
 "metadata": {
  "kernelspec": {
   "display_name": "base",
   "language": "python",
   "name": "python3"
  },
  "language_info": {
   "codemirror_mode": {
    "name": "ipython",
    "version": 3
   },
   "file_extension": ".py",
   "mimetype": "text/x-python",
   "name": "python",
   "nbconvert_exporter": "python",
   "pygments_lexer": "ipython3",
   "version": "3.12.7"
  }
 },
 "nbformat": 4,
 "nbformat_minor": 5
}
