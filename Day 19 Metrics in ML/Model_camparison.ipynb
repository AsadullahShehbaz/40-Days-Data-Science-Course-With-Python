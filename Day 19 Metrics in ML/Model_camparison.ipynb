{
 "cells": [
  {
   "cell_type": "markdown",
   "id": "5854c0d1",
   "metadata": {},
   "source": [
    "## 1.Import models"
   ]
  },
  {
   "cell_type": "code",
   "execution_count": null,
   "id": "430b90fd",
   "metadata": {},
   "outputs": [],
   "source": [
    "import numpy as np\n",
    "from sklearn.model_selection import train_test_split,cross_val_score\n",
    "from sklearn.linear_model import LogisticRegression\n",
    "# from sklearn.tree import DecisionTreeClassifier\n",
    "from sklearn.ensemble import RandomForestClassifier\n",
    "from sklearn.neighbors import KNeighborsClassifier\n",
    "from sklearn.svm import SVC\n",
    "from sklearn.metrics import accuracy_score, classification_report, confusion_matrix"
   ]
  },
  {
   "cell_type": "markdown",
   "id": "569e7548",
   "metadata": {},
   "source": [
    "### A. Loading and Preprocessing Data for ML"
   ]
  },
  {
   "cell_type": "code",
   "execution_count": null,
   "id": "eb42c3d2",
   "metadata": {},
   "outputs": [],
   "source": [
    "import pandas as pd \n",
    "import seaborn as sns\n",
    "df = sns.load_dataset('titanic')\n",
    "# set X and Y\n",
    "X = df[['pclass','sex','age','sibsp','parch','fare']]\n",
    "y = df['survived']\n",
    "# one hot encoding\n",
    "X = pd.get_dummies(X,columns=['sex'])\n",
    "# remove null \n",
    "X.age.fillna(value=X.age.mean(),inplace=True)\n",
    "# train test split\n",
    "X_train,X_test,y_train,y_test = train_test_split(X,y,test_size=0.2,random_state=42)\n",
    "# create model"
   ]
  },
  {
   "cell_type": "markdown",
   "id": "69e76068",
   "metadata": {},
   "source": [
    "## 2.Define the models to evaluate "
   ]
  },
  {
   "cell_type": "code",
   "execution_count": null,
   "id": "c4f1331c",
   "metadata": {},
   "outputs": [],
   "source": [
    "models = [LogisticRegression(),RandomForestClassifier(),KNeighborsClassifier(),SVC()]\n",
    "\n",
    "names = ['LogisticRegression','RandomForest','KNN','SVC']"
   ]
  },
  {
   "cell_type": "markdown",
   "id": "bc566823",
   "metadata": {},
   "source": [
    "## 3.Perform k-fold cross-validation for each model"
   ]
  },
  {
   "cell_type": "code",
   "execution_count": null,
   "id": "1dc64fb4",
   "metadata": {},
   "outputs": [],
   "source": [
    "k = 10\n",
    "for name , model in zip(names,models):\n",
    "    cv_scores = cross_val_score(model,X_train,y_train,cv=k)\n",
    "    print(f'{name} CV Accuracy : {np.mean(cv_scores):.3f}+/-{np.std(cv_scores):.3f}')"
   ]
  },
  {
   "cell_type": "markdown",
   "id": "dbd8e1f7",
   "metadata": {},
   "source": [
    "# 4.Apply Hyper Parameter Tuning on SVC\n",
    "### The process of finding the optimal parameters for a machine learning model to maximize performance.\n",
    "\n",
    "### It is done by Grid Search CV to Auto-check best parameter for model\n"
   ]
  },
  {
   "cell_type": "code",
   "execution_count": null,
   "id": "d74ba3f9",
   "metadata": {},
   "outputs": [],
   "source": [
    "from sklearn.model_selection import GridSearchCV\n",
    "\n",
    "# define the parameter grid\n",
    "param_grid = {'C':[0.1,1,10],\n",
    "              'kernel':['linear','rbf'],\n",
    "              'gamma':[0.1,1,10]}\n",
    "\n",
    "grid_search = GridSearchCV(SVC(),param_grid,cv=5) # object creation\n",
    "grid_search.fit(X_train,y_train) # train the model"
   ]
  },
  {
   "cell_type": "code",
   "execution_count": null,
   "id": "c85e8ff1",
   "metadata": {},
   "outputs": [],
   "source": [
    "print(f'Best Parameters : {grid_search.best_params_}')\n",
    "print(f'Best CV Score : {grid_search.best_score_:.2f}')\n"
   ]
  },
  {
   "cell_type": "markdown",
   "id": "9049b3b5",
   "metadata": {},
   "source": [
    "# Accuracy Score of all models"
   ]
  },
  {
   "cell_type": "code",
   "execution_count": null,
   "id": "a584dfd2",
   "metadata": {},
   "outputs": [],
   "source": [
    "model_score = []\n",
    "for name , model in zip(names,models):\n",
    "    model.fit(X_train,y_train)\n",
    "    ypred = model.predict(X_test)\n",
    "    accuracy = accuracy_score(y_test,ypred)\n",
    "    model_score.append([name,accuracy])"
   ]
  },
  {
   "cell_type": "markdown",
   "id": "4cd95ac5",
   "metadata": {},
   "source": [
    "### Sort the model based on score "
   ]
  },
  {
   "cell_type": "code",
   "execution_count": null,
   "id": "c4edbc16",
   "metadata": {},
   "outputs": [],
   "source": [
    "sorted_models = sorted(model_score,key=lambda x:x[1],reverse=True)"
   ]
  },
  {
   "cell_type": "code",
   "execution_count": null,
   "id": "c8e8f23f",
   "metadata": {},
   "outputs": [],
   "source": [
    "for model in sorted_models:\n",
    "    print(f'{model[0]} : {model[1]:.2f}')"
   ]
  }
 ],
 "metadata": {
  "kernelspec": {
   "display_name": "python_ml",
   "language": "python",
   "name": "python3"
  },
  "language_info": {
   "codemirror_mode": {
    "name": "ipython",
    "version": 3
   },
   "file_extension": ".py",
   "mimetype": "text/x-python",
   "name": "python",
   "nbconvert_exporter": "python",
   "pygments_lexer": "ipython3",
   "version": "3.10.0"
  }
 },
 "nbformat": 4,
 "nbformat_minor": 5
}
