{
 "cells": [
  {
   "cell_type": "markdown",
   "id": "419f80a0",
   "metadata": {},
   "source": [
    "# Model Selection "
   ]
  },
  {
   "cell_type": "code",
   "execution_count": null,
   "metadata": {},
   "outputs": [],
   "source": [
    "# Decision Tree Classifier and use best parameters\n",
    "import pandas as pd\n",
    "import seaborn as sns\n",
    "df = sns.load_dataset(\"titanic\")\n",
    "X = df[['pclass', 'sex', 'age', 'sibsp', 'parch', 'fare']]\n",
    "y = df['survived']\n",
    "X = pd.get_dummies(X, columns=['sex'])\n",
    "X.age.fillna(value = X['age'].mean(), inplace=True)\n",
    "\n",
    "from sklearn.tree import DecisionTreeClassifier\n",
    "from sklearn.model_selection import GridSearchCV\n",
    "import numpy as np\n",
    "#create a model\n",
    "model = DecisionTreeClassifier()\n",
    "# define parameter grid\n",
    "param_grid = {'max_depth': [3, 5, 7, None], 'min_samples_split': [2, 3, 4]}\n",
    "\n",
    "#object grid search cv (Creating the model)\n",
    "grid_search = GridSearchCV(model, param_grid, cv=5, scoring='precision')\n",
    "\n",
    "#traing the model\n",
    "grid_search.fit(X,y)\n",
    "\n",
    "# print the best parameters\n",
    "print(\"Best Parameters: \", grid_search.best_params_)\n",
    "print(\"Best Score: \", grid_search.best_score_)\n",
    "\n",
    "# Best Parameters:  {'max_depth': 3, 'min_samples_split': 2}\n",
    "# Best Score:  0.775"
   ]
  }
 ],
 "metadata": {
  "kernelspec": {
   "display_name": "Python 3",
   "language": "python",
   "name": "python3"
  },
  "language_info": {
   "name": "python",
   "version": "3.13.2"
  }
 },
 "nbformat": 4,
 "nbformat_minor": 5
}
