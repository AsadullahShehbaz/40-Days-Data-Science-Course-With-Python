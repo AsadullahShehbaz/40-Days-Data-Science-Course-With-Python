{
 "cells": [
  {
   "cell_type": "markdown",
   "id": "2d8e3930",
   "metadata": {},
   "source": [
    "# Regression in Scikit Learn"
   ]
  },
  {
   "cell_type": "code",
   "execution_count": null,
   "id": "a4757c07",
   "metadata": {},
   "outputs": [],
   "source": [
    "# import 4 basic libraries\n",
    "import numpy as np \n",
    "import pandas as pd\n",
    "import seaborn as sns\n",
    "import matplotlib.pyplot as plt\n",
    "\n",
    "# train test split is must for ML models\n",
    "from sklearn.model_selection import train_test_split\n",
    "from sklearn.linear_model import LinearRegression"
   ]
  },
  {
   "cell_type": "code",
   "execution_count": null,
   "id": "74493e7d",
   "metadata": {},
   "outputs": [],
   "source": [
    "df = sns.load_dataset('titanic')\n",
    "df.head()"
   ]
  },
  {
   "cell_type": "code",
   "execution_count": null,
   "id": "0937b99a",
   "metadata": {},
   "outputs": [],
   "source": [
    "df_linear = df[['age', 'fare']].dropna()"
   ]
  },
  {
   "cell_type": "code",
   "execution_count": null,
   "id": "6887c404",
   "metadata": {},
   "outputs": [],
   "source": [
    "# simple linear regression model assumptions \n",
    "# 1. Only linear relationship between the independent and dependent variables\n",
    "# 2. Only two variables are used in the model\n",
    "X = df[['age']]\n",
    "y = df['fare']"
   ]
  },
  {
   "cell_type": "code",
   "execution_count": null,
   "id": "ac0d2831",
   "metadata": {},
   "outputs": [],
   "source": [
    "# fillna to fill values \n",
    "X['age'].fillna(X['age'].mean(),inplace=True)"
   ]
  },
  {
   "cell_type": "code",
   "execution_count": null,
   "id": "4590fbf4",
   "metadata": {},
   "outputs": [],
   "source": [
    "# percentage of missing values in the dataset\n",
    "X.isnull().sum() / len(X) * 100"
   ]
  },
  {
   "cell_type": "code",
   "execution_count": null,
   "id": "8d66e92b",
   "metadata": {},
   "outputs": [],
   "source": [
    "X.shape"
   ]
  },
  {
   "cell_type": "code",
   "execution_count": null,
   "id": "730edc45",
   "metadata": {},
   "outputs": [],
   "source": [
    "y.shape"
   ]
  },
  {
   "cell_type": "code",
   "execution_count": null,
   "id": "2e6ac850",
   "metadata": {},
   "outputs": [],
   "source": [
    "# lm plot \n",
    "sns.lmplot(x='age', y='fare', data=df_linear)"
   ]
  },
  {
   "cell_type": "markdown",
   "id": "67e9661f",
   "metadata": {},
   "source": [
    "## Check outlier by Box plot "
   ]
  },
  {
   "cell_type": "code",
   "execution_count": null,
   "id": "f537c97f",
   "metadata": {},
   "outputs": [],
   "source": [
    "sns.boxplot(y='fare', data=df_linear)"
   ]
  },
  {
   "cell_type": "code",
   "execution_count": null,
   "id": "a53e7f12",
   "metadata": {},
   "outputs": [],
   "source": [
    "df_linear = df_linear[(df_linear['age']>5) & (df_linear['age']<55)]"
   ]
  },
  {
   "cell_type": "code",
   "execution_count": null,
   "id": "468303c0",
   "metadata": {},
   "outputs": [],
   "source": [
    "sns.boxplot(y='age', data=df_linear)"
   ]
  },
  {
   "cell_type": "code",
   "execution_count": null,
   "id": "da867d97",
   "metadata": {},
   "outputs": [],
   "source": [
    "df_linear = df_linear[(df_linear['fare']>0) & (df_linear['fare']<41)]"
   ]
  },
  {
   "cell_type": "code",
   "execution_count": null,
   "id": "ca0357ed",
   "metadata": {},
   "outputs": [],
   "source": [
    "sns.boxplot(y='fare',data=df_linear)"
   ]
  },
  {
   "cell_type": "code",
   "execution_count": null,
   "id": "f6f72856",
   "metadata": {},
   "outputs": [],
   "source": [
    "sns.lmplot(x='age', y='fare', data=df_linear)"
   ]
  },
  {
   "cell_type": "code",
   "execution_count": null,
   "id": "f2cd5a08",
   "metadata": {},
   "outputs": [],
   "source": [
    "X = df_linear[['age']]\n",
    "y = df_linear['fare']\n",
    "model = LinearRegression()\n",
    "model.fit(X, y)\n",
    "model.predict([[25]])"
   ]
  },
  {
   "cell_type": "markdown",
   "id": "6bdddbd0",
   "metadata": {},
   "source": [
    "## 4 Model Evaluation with metrics \n",
    "### R2\n",
    "### MAE\n",
    "### RMSE\n",
    "### mean square error"
   ]
  },
  {
   "cell_type": "code",
   "execution_count": null,
   "id": "5a12820e",
   "metadata": {},
   "outputs": [],
   "source": [
    "X = df_linear[['age']]\n",
    "y = df_linear['fare']\n",
    "model = LinearRegression()\n",
    "# train test split\n",
    "X_train, X_test, y_train, y_test = train_test_split(X, y, test_size=0.2, random_state=42)\n",
    "# fit the model on training data\n",
    "model.fit(X_train, y_train)\n",
    "# predict on test data\n",
    "y_pred = model.predict(X_test)\n",
    "# evaluate the model\n",
    "sns.scatterplot(x=y_test, y=y_pred)"
   ]
  },
  {
   "cell_type": "code",
   "execution_count": null,
   "id": "9f9fa0a4",
   "metadata": {},
   "outputs": [],
   "source": [
    "model.score(X_test, y_test)"
   ]
  },
  {
   "cell_type": "code",
   "execution_count": 50,
   "metadata": {},
   "outputs": [],
   "source": [
    "from sklearn.metrics import mean_absolute_error,mean_squared_error,r2_score\n",
    "\n",
    "MAE = mean_absolute_error(y_true=y_test,y_pred=y_pred) # MAE is the mean absolute error, which is the average of the absolute differences between predicted and actual values\n",
    "MSE = mean_squared_error(y_true=y_test,y_pred=y_pred) # MSE is the mean squared error, which is the average of the squared differences between predicted and actual values\n",
    "RMSE = np.sqrt(MSE) # RMSE is the square root of MSE, so we can also calculate it directly\n",
    "R2 = r2_score(y_true=y_test,y_pred=y_pred) # R2 is the coefficient of determination, which indicates how well the model explains the variance in the data\n",
    "\n"
   ]
  },
  {
   "cell_type": "code",
   "execution_count": 51,
   "id": "020bf338",
   "metadata": {},
   "outputs": [
    {
     "name": "stdout",
     "output_type": "stream",
     "text": [
      "MSE: 75.47862585668436\n",
      "MAE:7.356399403049273\n",
      "RMSE:8.687843567691834\n",
      "R2:-0.01940614554645026\n"
     ]
    }
   ],
   "source": [
    "print(f'MSE: {MSE}')\n",
    "print(f'MAE:{MAE}')\n",
    "print(f'RMSE:{RMSE}')\n",
    "print(f'R2:{R2}')"
   ]
  }
 ],
 "metadata": {
  "kernelspec": {
   "display_name": "python_ml",
   "language": "python",
   "name": "python3"
  },
  "language_info": {
   "codemirror_mode": {
    "name": "ipython",
    "version": 3
   },
   "file_extension": ".py",
   "mimetype": "text/x-python",
   "name": "python",
   "nbconvert_exporter": "python",
   "pygments_lexer": "ipython3",
   "version": "3.10.0"
  }
 },
 "nbformat": 4,
 "nbformat_minor": 5
}
