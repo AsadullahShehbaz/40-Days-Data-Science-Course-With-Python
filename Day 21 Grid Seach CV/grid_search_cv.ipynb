{
 "cells": [
  {
   "cell_type": "markdown",
   "id": "5138e645",
   "metadata": {},
   "source": [
    "# Grid Search CV "
   ]
  },
  {
   "cell_type": "code",
   "execution_count": null,
   "id": "e1233173",
   "metadata": {},
   "outputs": [],
   "source": [
    "from sklearn.model_selection import GridSearchCV\n",
    "import numpy as np"
   ]
  },
  {
   "cell_type": "code",
   "execution_count": null,
   "id": "cb58d8d5",
   "metadata": {},
   "outputs": [],
   "source": [
    "from sklearn.linear_model import LinearRegression\n",
    "model = LinearRegression()\n",
    "model.get_params()"
   ]
  },
  {
   "cell_type": "markdown",
   "id": "013193d5",
   "metadata": {},
   "source": [
    "# Linear Regression : "
   ]
  },
  {
   "cell_type": "code",
   "execution_count": null,
   "id": "29cad709",
   "metadata": {},
   "outputs": [],
   "source": [
    "import pandas as pd\n",
    "import seaborn as sns\n",
    "df = sns.load_dataset('titanic')\n",
    "# normalize the age column \n",
    "df['age'].fillna(df['age'].mean(),inplace=True)\n",
    "# create feature and target\n",
    "X = df[['age']]\n",
    "y = df['fare']"
   ]
  },
  {
   "cell_type": "code",
   "execution_count": null,
   "id": "3c42d550",
   "metadata": {},
   "outputs": [],
   "source": [
    "from sklearn.linear_model import LinearRegression\n",
    "# create a model \n",
    "model = LinearRegression()"
   ]
  },
  {
   "cell_type": "code",
   "execution_count": null,
   "id": "0ec0f9d2",
   "metadata": {},
   "outputs": [],
   "source": [
    "# define params grid \n",
    "params_grid = {'fit_intercept':[True,False]}\n",
    "\n",
    "# create grid search CV object (model select)\n",
    "gridsearch = GridSearchCV(model,params_grid,cv=5,scoring='r2')\n",
    "\n",
    "# train the model\n",
    "gridsearch.fit(X,y)\n"
   ]
  },
  {
   "cell_type": "code",
   "execution_count": null,
   "id": "a5659524",
   "metadata": {},
   "outputs": [],
   "source": [
    "print(f'Best Parameter : {gridsearch.best_params_}')"
   ]
  },
  {
   "cell_type": "markdown",
   "id": "9a36bf75",
   "metadata": {},
   "source": [
    "# K Nearest Neighbours : "
   ]
  },
  {
   "cell_type": "code",
   "execution_count": null,
   "id": "436861d1",
   "metadata": {},
   "outputs": [],
   "source": [
    "df = sns.load_dataset('titanic')\n",
    "df['age'].fillna(df['age'].mean(),inplace=True)\n",
    "X = df[['pclass','sex','age','sibsp','parch']]\n",
    "y = df['survived']\n",
    "X = pd.get_dummies(X,columns=['sex'],drop_first=True)\n",
    "from sklearn.neighbors import KNeighborsClassifier\n",
    "\n",
    "#  create model \n",
    "model = KNeighborsClassifier()\n",
    "\n",
    "# create paramter grid\n",
    "params_grid = {'n_neighbors':np.arange(1,40,2),'weights':['uniform','distance']}\n",
    "\n",
    "# create grid search CV object (model select)\n",
    "gridsearch = GridSearchCV(model,params_grid,cv=5,scoring='f1')\n",
    "\n",
    "# train the model\n",
    "gridsearch.fit(X,y)\n",
    "\n",
    "print(f'Best Parameter : {gridsearch.best_params_}')\n",
    "print(f'Best Score : {gridsearch.best_score_}')"
   ]
  },
  {
   "cell_type": "markdown",
   "id": "fb38ee82",
   "metadata": {},
   "source": [
    "# Decision Tree Classifier "
   ]
  },
  {
   "cell_type": "code",
   "execution_count": 37,
   "id": "1d70b567",
   "metadata": {},
   "outputs": [
    {
     "name": "stderr",
     "output_type": "stream",
     "text": [
      "C:\\Users\\HP\\AppData\\Local\\Temp\\ipykernel_15068\\259298889.py:2: FutureWarning: A value is trying to be set on a copy of a DataFrame or Series through chained assignment using an inplace method.\n",
      "The behavior will change in pandas 3.0. This inplace method will never work because the intermediate object on which we are setting values always behaves as a copy.\n",
      "\n",
      "For example, when doing 'df[col].method(value, inplace=True)', try using 'df.method({col: value}, inplace=True)' or df[col] = df[col].method(value) instead, to perform the operation inplace on the original object.\n",
      "\n",
      "\n",
      "  df['age'].fillna(df['age'].mean(),inplace=True)\n"
     ]
    },
    {
     "name": "stdout",
     "output_type": "stream",
     "text": [
      "Best Parameter : {'max_depth': 7, 'min_samples_split': 4}\n",
      "Best Score : 0.7507581806667275\n"
     ]
    }
   ],
   "source": [
    "df = sns.load_dataset('titanic')\n",
    "df['age'].fillna(df['age'].mean(),inplace=True)\n",
    "X = df[['pclass','sex','age','sibsp','parch']]\n",
    "y = df['survived']\n",
    "X = pd.get_dummies(X,columns=['sex'],drop_first=True)\n",
    "from sklearn.tree import DecisionTreeClassifier\n",
    "\n",
    "#  create model \n",
    "model = DecisionTreeClassifier()\n",
    "\n",
    "# create paramter grid\n",
    "params_grid = {'max_depth':[5,7,3,None],'min_samples_split':[2,3,4]}\n",
    "\n",
    "# create grid search CV object (model select)\n",
    "gridsearch = GridSearchCV(model,params_grid,cv=5,scoring='f1')\n",
    "\n",
    "# train the model\n",
    "gridsearch.fit(X,y)\n",
    "\n",
    "print(f'Best Parameter : {gridsearch.best_params_}')\n",
    "print(f'Best Score : {gridsearch.best_score_}')"
   ]
  },
  {
   "cell_type": "markdown",
   "id": "4177af42",
   "metadata": {},
   "source": [
    "# Random Forest Classifier"
   ]
  },
  {
   "cell_type": "code",
   "execution_count": 39,
   "id": "b77466f9",
   "metadata": {},
   "outputs": [
    {
     "name": "stderr",
     "output_type": "stream",
     "text": [
      "C:\\Users\\HP\\AppData\\Local\\Temp\\ipykernel_15068\\929372649.py:2: FutureWarning: A value is trying to be set on a copy of a DataFrame or Series through chained assignment using an inplace method.\n",
      "The behavior will change in pandas 3.0. This inplace method will never work because the intermediate object on which we are setting values always behaves as a copy.\n",
      "\n",
      "For example, when doing 'df[col].method(value, inplace=True)', try using 'df.method({col: value}, inplace=True)' or df[col] = df[col].method(value) instead, to perform the operation inplace on the original object.\n",
      "\n",
      "\n",
      "  df['age'].fillna(df['age'].mean(),inplace=True)\n"
     ]
    },
    {
     "name": "stdout",
     "output_type": "stream",
     "text": [
      "Best Parameter : {'max_depth': None, 'max_features': 'log2', 'min_samples_split': 4, 'n_estimators': 50}\n",
      "Best Score : 0.762663047938649\n"
     ]
    }
   ],
   "source": [
    "df = sns.load_dataset('titanic')\n",
    "df['age'].fillna(df['age'].mean(),inplace=True)\n",
    "X = df[['pclass','sex','age','sibsp','parch']]\n",
    "y = df['survived']\n",
    "X = pd.get_dummies(X,columns=['sex'],drop_first=True)\n",
    "from sklearn.ensemble import RandomForestClassifier\n",
    "\n",
    "#  create model \n",
    "model = RandomForestClassifier()\n",
    "\n",
    "# create paramter grid\n",
    "params_grid = {'n_estimators':[10,50,100],\n",
    "               'max_depth':[5,7,3,None],\n",
    "               'min_samples_split':[2,3,4],\n",
    "               'max_features':['log2']}\n",
    "\n",
    "# create grid search CV object (model select)\n",
    "gridsearch = GridSearchCV(model,params_grid,cv=5,scoring='f1')\n",
    "\n",
    "# train the model\n",
    "gridsearch.fit(X,y)\n",
    "\n",
    "print(f'Best Parameter : {gridsearch.best_params_}')\n",
    "print(f'Best Score : {gridsearch.best_score_}')"
   ]
  }
 ],
 "metadata": {
  "kernelspec": {
   "display_name": "base",
   "language": "python",
   "name": "python3"
  },
  "language_info": {
   "codemirror_mode": {
    "name": "ipython",
    "version": 3
   },
   "file_extension": ".py",
   "mimetype": "text/x-python",
   "name": "python",
   "nbconvert_exporter": "python",
   "pygments_lexer": "ipython3",
   "version": "3.12.7"
  }
 },
 "nbformat": 4,
 "nbformat_minor": 5
}
